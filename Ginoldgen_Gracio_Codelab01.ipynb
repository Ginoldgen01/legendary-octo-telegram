{
 "cells": [
  {
   "cell_type": "markdown",
   "id": "fc28ec11",
   "metadata": {},
   "source": [
    "<center><img src=\"logo.png\"></center>\n",
    "<h1><center><b>UNIVERSIDAD DE MANILA</b></center></h1>\n",
    "<h3><center><b>College of Engineering and Technology</b></center><h3>\n",
    "\n",
    "<h5><b>Name:</b> Ginoldgen Gracio</h5>\n",
    "<h5><b>Section:</b> BSCYB-11/CS11</h5>\n",
    "<h5><b>Professor:</b> Mr. Ryan Azur</h5>\n",
    "\n",
    "<b><h5><center>Assignment: Code Lab 01<center><h5><b>"
   ]
  },
  {
   "cell_type": "code",
   "execution_count": 1,
   "id": "cfd38aa1",
   "metadata": {},
   "outputs": [
    {
     "name": "stdout",
     "output_type": "stream",
     "text": [
      "There was a girl named Ginoldgen.\n",
      "She loves to express what her self is.\n",
      "\n"
     ]
    }
   ],
   "source": [
    "character_name = \"Ginoldgen\"\n",
    "print(\"There was a girl named \" + character_name +\".\")\n",
    "print(\"She loves to express what her self is.\")\n",
    "print()"
   ]
  },
  {
   "cell_type": "code",
   "execution_count": 2,
   "id": "cd4c2cf4-c976-493f-8bb6-8b3333fe61f9",
   "metadata": {},
   "outputs": [
    {
     "name": "stdout",
     "output_type": "stream",
     "text": [
      "Her first name was Ginoldgen, followed by her lastname Gracio.\n",
      "As of now she is 18 years old, and turning 19 on her birthday.\n",
      "She was born on 19th of March in the year 2003, in the city of Manila, located in Sampaloc.\n",
      "\n"
     ]
    }
   ],
   "source": [
    "first_name = \"Ginoldgen\"\n",
    "surname = \"Gracio\"\n",
    "character_age = \"18\"\n",
    "turning_age = \"19\"\n",
    "birthdate = \"19th of March in the year 2003\"\n",
    "print(\"Her first name was \" + first_name +\", followed by her lastname \" + surname +\".\")\n",
    "print(\"As of now she is \" + character_age +\" years old, and turning \" + turning_age + \" on her birthday.\")\n",
    "print(\"She was born on \" + birthdate + \", in the city of Manila, located in Sampaloc.\")\n",
    "print()"
   ]
  },
  {
   "cell_type": "code",
   "execution_count": 3,
   "id": "f59ce55f-b566-4a5b-9624-80dc7c0d5176",
   "metadata": {},
   "outputs": [
    {
     "name": "stdout",
     "output_type": "stream",
     "text": [
      "She is currently studying in Universidad de Manila, a very respected and popular university in Manila.\n",
      "The university is located in 659-A Cecilia Muñoz St. Ermita, Manila, 1000 Metro Manila,and currently studying as Freshmen.\n",
      "She graduated in Mary Chiles College taking Senior High School.\n",
      "\n"
     ]
    }
   ],
   "source": [
    "university_name = \"Universidad de Manila\"\n",
    "attainment = \"Freshmen\"\n",
    "university_location = \"659-A Cecilia Muñoz St. Ermita, Manila, 1000 Metro Manila\"\n",
    "school_name = \"Mary Chiles College\"\n",
    "print(\"She is currently studying in \" + university_name + \", a very respected and popular university in Manila.\")\n",
    "print(\"The university is located in \" + university_location + \",and currently studying as \" + attainment +\".\")\n",
    "print(\"She graduated in \" + school_name +\" taking Senior High School.\")\n",
    "print()"
   ]
  },
  {
   "cell_type": "code",
   "execution_count": 4,
   "id": "21e4375a-fb8b-4155-a01e-f4543f764363",
   "metadata": {},
   "outputs": [
    {
     "name": "stdout",
     "output_type": "stream",
     "text": [
      "Hello buddy, that is my short introduction about myself.\n",
      "And, I am greatful to know these kind of things with the help of Sir Ryan Azur.\n",
      "I am expecting that in this subject I will learn a lot of things about programming,\n",
      "with my classmates and as well as schoolmates in this subject Computer Programming.\n",
      "\n"
     ]
    }
   ],
   "source": [
    "name = \"Ginoldgen\"\n",
    "prof_name = \"Sir Ryan Azur\"\n",
    "subject_name = \"Computer Programming\"\n",
    "print(\"Hello buddy, that is my short introduction about myself.\")\n",
    "print(\"And, I am greatful to know these kind of things with the help of \" + prof_name +\".\")\n",
    "print(\"I am expecting that in this subject I will learn a lot of things about programming,\")\n",
    "print(\"with my classmates and as well as schoolmates in this subject \" + subject_name +\".\")\n",
    "print()"
   ]
  },
  {
   "cell_type": "code",
   "execution_count": 5,
   "id": "9492d038-417d-4e41-a4ad-1723e309fa0d",
   "metadata": {
    "tags": []
   },
   "outputs": [
    {
     "name": "stdout",
     "output_type": "stream",
     "text": [
      "I'm looking forward to this subject with help of the university, which is UDM.\n",
      "I will give my all in order for me to cope with the new normal education and give my all within this suject.\n",
      "That is all, and I hope we will cope with the new normal.\n",
      "Thank you <3 Min'na arigato~\n",
      "\n"
     ]
    }
   ],
   "source": [
    "dedicate = \"UDM\"\n",
    "inspiration = \"to cope with the new normal education and give my all within this suject\"\n",
    "print(\"I'm looking forward to this subject with help of the university, which is \" + dedicate +\".\")\n",
    "print(\"I will give my all in order for me \" + inspiration +\".\")\n",
    "print(\"That is all, and I hope we will cope with the new normal.\")\n",
    "print(\"Thank you <3 Min'na arigato~\")\n",
    "print()"
   ]
  }
 ],
 "metadata": {
  "kernelspec": {
   "display_name": "Python 3 (ipykernel)",
   "language": "python",
   "name": "python3"
  },
  "language_info": {
   "codemirror_mode": {
    "name": "ipython",
    "version": 3
   },
   "file_extension": ".py",
   "mimetype": "text/x-python",
   "name": "python",
   "nbconvert_exporter": "python",
   "pygments_lexer": "ipython3",
   "version": "3.7.10"
  }
 },
 "nbformat": 4,
 "nbformat_minor": 5
}
