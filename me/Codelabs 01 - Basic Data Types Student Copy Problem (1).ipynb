{
 "cells": [
  {
   "cell_type": "markdown",
   "metadata": {},
   "source": [
    "<b>Name1:</b> Juan Dela Cruz\n",
    "<br><b>Name2:</b> Ryan Azur\n",
    "<br><b>Section:</b> \n",
    "<br><b>Due Date: </b> September 1, 2021\n",
    "<br><b>NOTE:</b> Please Rename your file as Section_LastNameofMember1_LastNameofMember2 (Example:  BSITBA1A_DelaCruz_Azur)"
   ]
  },
  {
   "cell_type": "markdown",
   "metadata": {},
   "source": [
    "## 1. Miles Per Hour Conversion App \n",
    " \n",
    "<b>Description: </b>\n",
    "\n",
    "You are responsible for writing a program that will convert any given speed in miles per hour to a more metric friendly unit of meters per second.  All calculations should be rounded to a set decimal precision of 2 decimal places.  \n",
    " \n",
    "Step By Step Guide: \n",
    "\n",
    "* Print a welcome message. \n",
    "* Get user input for their speed in miles per hour. \n",
    "    * Allow for a decimal speed. \n",
    " \n",
    "* Convert the speed in miles per hour to meters per second. \n",
    "    * Use a conversion ratio of 1 mph = 0.4474 mps. \n",
    "    * Use the round() function to round this speed to 2 decimal places. \n",
    "    * Check the python documentation for information on how to use the round() function. \n",
    " \n",
    "* Print a message to the user that informs them of their speed in meters per second. \n",
    " \n",
    "* Use at least 2 comments to describe sections of your code. \n",
    "* “Chunk” your code so that is readable. \n",
    "* Use appropriate and informative variable names. \n",
    "* Format your output as below. \n",
    " \n",
    "<b>Example Output: </b>\n",
    "\n",
    "Welcome to the Miles Per Hour Conversion App \n",
    " \n",
    "What is your speed in miles per hour:  55.8 \n",
    "<br>Your speed in meters per second is 24.96."
   ]
  },
  {
   "cell_type": "code",
   "execution_count": 3,
   "metadata": {},
   "outputs": [
    {
     "name": "stdout",
     "output_type": "stream",
     "text": [
      "Welcome to the Miles Per Hour Conversion App\n"
     ]
    }
   ],
   "source": []
  },
  {
   "cell_type": "markdown",
   "metadata": {},
   "source": [
    "## 2. Temperature Conversion App\n",
    "\n",
    "<b>Description:</b>\n",
    "\n",
    "You are responsible for writing a program that will convert a given temperature in degrees Fahrenheit to degrees Celsius and degrees Kelvin. Your program will round all conversions to a precision of four decimal places. Lastly, your program will display the results in a convenient table style format.\n",
    "\n",
    "Step By Step Guide:\n",
    "* Print a welcome message.\n",
    "* Get user input for their given temperature in degrees Fahrenheit.\n",
    "    * Allow for a decimal temperature.\n",
    "* Convert the temperature into both Celsius and Kelvin.\n",
    "    * If you are unsure of the conversion ratios, google is your friend.\n",
    "    * Round all values to 4 decimal places.\n",
    "* Display all three temperatures such that the temperature values are aligned when printing.\n",
    "* Use at least 2 comments to describe sections of your code.\n",
    "* “Chunk” your code so that is readable.\n",
    "* Use appropriate and informative variable names.\n",
    "* Format your output as below.\n",
    "\n",
    "<b>Example Output:</b>\n",
    "\n",
    "Welcome to the Temperature Conversion App\n",
    "\n",
    "<br>What is the given temperature in degrees Fahrenheit: 212.52\n",
    "<br><br>Degrees Fahrenheit: 212.52\n",
    "<br>Degrees Celsius: 100.2889\n",
    "<br>Degrees Kelvin: 373.4389"
   ]
  },
  {
   "cell_type": "code",
   "execution_count": 2,
   "metadata": {},
   "outputs": [
    {
     "name": "stdout",
     "output_type": "stream",
     "text": [
      "Welcome to the Temperature Conversion App\n",
      "\n",
      "What is the given temperature in degrees Fahrenheit: 212.52\n",
      "\n",
      "Degrees Fahrenheit:\t 212.52\n",
      "Degrees Celcius:\t 100.2889\n",
      "Degrees Kelvin:\t\t 373.4389\n"
     ]
    }
   ],
   "source": []
  },
  {
   "cell_type": "markdown",
   "metadata": {},
   "source": [
    "## 3. Right Triangle Solver App\n",
    "\n",
    "<b>Description:</b>\n",
    "\n",
    "You are responsible for writing a program that will calculate the hypotenuse and area of a right triangle given its two bases. Your program will round all calculations to a precision of three decimal places and provide a summary of the mathematical results.\n",
    "\n",
    "<b>Example Output:</b>\n",
    "\n",
    "Welcome to the Right Triangle Solver App\n",
    "\n",
    "What is the first leg of the triangle: 20\n",
    "<br>What is the second leg of the triangle: 40.5\n",
    "\n",
    "For a triangle with legs of 20 and 40.5 the hypotenuse is 45.169.\n",
    "<br>For a triangle with legs of 20 and 40.5 the area is 405.0."
   ]
  },
  {
   "cell_type": "code",
   "execution_count": 3,
   "metadata": {},
   "outputs": [
    {
     "name": "stdout",
     "output_type": "stream",
     "text": [
      "Welcome to the Right Triangle Solver App\n",
      "\n",
      "What is the first leg of the triangle: 20\n",
      "What is the second leg of the triangle: 40.5\n",
      "\n",
      "For a triangle with legs of 20.0 and 40.5 the hypotenuse is 45.169.\n",
      "For a triangle with legs of 20.0 and 40.5 the area is 405.0.\n"
     ]
    }
   ],
   "source": []
  },
  {
   "cell_type": "markdown",
   "metadata": {},
   "source": [
    "## 4. Multiplication/Exponent Table App\n",
    "\n",
    "<b>Description:</b>\n",
    "\n",
    "You are responsible for writing a program that displays a multiplication table and exponentiation table for any given number. Each table should show mathematical results for operations performed with the given number and integers from 1 to 9. \n"
   ]
  },
  {
   "cell_type": "code",
   "execution_count": 4,
   "metadata": {},
   "outputs": [
    {
     "name": "stdout",
     "output_type": "stream",
     "text": [
      "Welcome to the Multiplication/Exponent Table Program\n",
      "\n",
      "Hello, what is your name: ryan\n",
      "What number would you like to work with: 2.35\n",
      "\n",
      "Multiplication Table For 2.35\n",
      "\n",
      "\t 1.0 * 2.35 = 2.35\n",
      "\t 2.0 * 2.35 = 4.7\n",
      "\t 3.0 * 2.35 = 7.05\n",
      "\t 4.0 * 2.35 = 9.4\n",
      "\t 5.0 * 2.35 = 11.75\n",
      "\t 6.0 * 2.35 = 14.1\n",
      "\t 7.0 * 2.35 = 16.45\n",
      "\t 8.0 * 2.35 = 18.8\n",
      "\t 9.0 * 2.35 = 21.15\n",
      "\n",
      "Exponent Table For 2.35\n",
      "\n",
      "\t2.35 ** 1 = 2.35\n",
      "\t2.35 ** 2 = 5.5225\n",
      "\t2.35 ** 3 = 12.9779\n",
      "\t2.35 ** 4 = 30.498\n",
      "\t2.35 ** 5 = 71.6703\n",
      "\t2.35 ** 6 = 168.4252\n",
      "\t2.35 ** 7 = 395.7993\n",
      "\t2.35 ** 8 = 930.1284\n",
      "\t2.35 ** 9 = 2185.8017\n"
     ]
    }
   ],
   "source": []
  },
  {
   "cell_type": "code",
   "execution_count": null,
   "metadata": {},
   "outputs": [],
   "source": []
  }
 ],
 "metadata": {
  "kernelspec": {
   "display_name": "Python 3",
   "language": "python",
   "name": "python3"
  },
  "language_info": {
   "codemirror_mode": {
    "name": "ipython",
    "version": 3
   },
   "file_extension": ".py",
   "mimetype": "text/x-python",
   "name": "python",
   "nbconvert_exporter": "python",
   "pygments_lexer": "ipython3",
   "version": "3.7.4"
  }
 },
 "nbformat": 4,
 "nbformat_minor": 4
}
